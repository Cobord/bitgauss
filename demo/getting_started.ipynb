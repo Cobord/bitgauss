{
 "cells": [
  {
   "cell_type": "code",
   "execution_count": 1,
   "id": "78ae844b",
   "metadata": {},
   "outputs": [],
   "source": [
    "from bitgauss import BitMatrix"
   ]
  },
  {
   "cell_type": "markdown",
   "id": "842883a8",
   "metadata": {},
   "source": [
    "`bitgauss` is a library for doing linear algebra over the two-element field $\\mathbb F_2$, i.e. the field whose elements are $\\{0, 1\\}$, addition is XOR and multiplication is AND.\n",
    "\n",
    "All features are accessible via `BitMatrix` class, which contains a 2D matrix of bits, bitpacked into 64-bit chunks and stored in row-major order. The class provides methods for creating matrices, and performing Gaussian elimination.\n",
    "\n",
    "There are several ways to construct a `BitMatrix` using Python bindings."
   ]
  },
  {
   "cell_type": "code",
   "execution_count": 2,
   "id": "64e5317c",
   "metadata": {},
   "outputs": [
    {
     "name": "stdout",
     "output_type": "stream",
     "text": [
      " 1  0  1  0 \n",
      " 0  1  0  1 \n",
      " 1  1  0  0 \n",
      " 0  0  1  1 \n",
      "\n",
      " 1  0  1  0 \n",
      " 0  1  0  1 \n",
      " 1  1  0  0 \n",
      " 0  0  1  1 \n",
      "\n"
     ]
    },
    {
     "data": {
      "text/plain": [
       "True"
      ]
     },
     "execution_count": 2,
     "metadata": {},
     "output_type": "execute_result"
    }
   ],
   "source": [
    "# BitMatrix.from_int_list creates a BitMatrix from a list of lists of integers (0 or 1)\n",
    "m = BitMatrix.from_int_list([[1, 0, 1, 0],\n",
    "                             [0, 1, 0, 1],\n",
    "                             [1, 1, 0, 0],\n",
    "                             [0, 0, 1, 1]])\n",
    "print(m)\n",
    "\n",
    "# ...whereas BitMatrix.from_list creates a BitMatrix from a list of booleans\n",
    "m1 = BitMatrix.from_list([[True, False, True, False],\n",
    "                          [False, True, False, True],\n",
    "                          [True, True, False, False],\n",
    "                          [False, False, True, True]])\n",
    "print(m1)\n",
    "\n",
    "m == m1"
   ]
  },
  {
   "cell_type": "code",
   "execution_count": 3,
   "id": "9a58f8e3",
   "metadata": {},
   "outputs": [
    {
     "name": "stdout",
     "output_type": "stream",
     "text": [
      " 0  0  0  0 \n",
      " 0  0  0  0 \n",
      " 0  0  0  0 \n",
      "\n",
      " 1  0  0  0 \n",
      " 0  1  0  0 \n",
      " 0  0  1  0 \n",
      " 0  0  0  1 \n",
      "\n"
     ]
    }
   ],
   "source": [
    "# BitMatrix.zeros creates a zero matrix of given dimensions\n",
    "m = BitMatrix.zeros(3, 4)\n",
    "\n",
    "print(m)\n",
    "\n",
    "# BitMatrix.identity creates an identity matrix of given size\n",
    "m1 = BitMatrix.identity(4)\n",
    "\n",
    "print(m1)"
   ]
  },
  {
   "cell_type": "code",
   "execution_count": 4,
   "id": "94258732",
   "metadata": {},
   "outputs": [
    {
     "name": "stdout",
     "output_type": "stream",
     "text": [
      " 1  0  1  0  1  0  1  0  1  0  1  0  1  0  1 \n",
      " 0  1  0  1  0  1  0  1  0  1  0  1  0  1  0 \n",
      " 1  0  1  0  1  0  1  0  1  0  1  0  1  0  1 \n",
      " 0  1  0  1  0  1  0  1  0  1  0  1  0  1  0 \n",
      " 1  0  1  0  1  0  1  0  1  0  1  0  1  0  1 \n",
      " 0  1  0  1  0  1  0  1  0  1  0  1  0  1  0 \n",
      " 1  0  1  0  1  0  1  0  1  0  1  0  1  0  1 \n",
      " 0  1  0  1  0  1  0  1  0  1  0  1  0  1  0 \n",
      " 1  0  1  0  1  0  1  0  1  0  1  0  1  0  1 \n",
      " 0  1  0  1  0  1  0  1  0  1  0  1  0  1  0 \n",
      "\n"
     ]
    }
   ],
   "source": [
    "# BitMatrix.build takes the rows, columns, and a boolean-valued function to build a matrix\n",
    "m = BitMatrix.build(10, 15, lambda i, j: (i + j) % 2 == 0)\n",
    "print(m)"
   ]
  },
  {
   "cell_type": "code",
   "execution_count": 5,
   "id": "1a41128c",
   "metadata": {},
   "outputs": [
    {
     "name": "stdout",
     "output_type": "stream",
     "text": [
      " 0  0  0  0  0 \n",
      " 1  0  0  1  0 \n",
      " 0  0  1  1  0 \n",
      " 0  0  0  0  0 \n",
      "\n",
      " 0  0  1  0  1 \n",
      " 1  1  1  1  0 \n",
      " 1  0  1  1  1 \n",
      " 0  0  0  0  1 \n",
      " 0  0  0  1  0 \n",
      "\n",
      "Rank =  5\n"
     ]
    }
   ],
   "source": [
    "# BitMatrix.random creates a random matrix of given dimensions\n",
    "m = BitMatrix.random(4, 5)\n",
    "\n",
    "print(m)\n",
    "\n",
    "# It can also take a seed to reproduce the same random matrix\n",
    "m1 = BitMatrix.random(4, 5, seed=42)\n",
    "m2 = BitMatrix.random(4, 5, seed=42)\n",
    "\n",
    "assert(m1 == m2)\n",
    "\n",
    "# Random invertible matrices can be created with BitMatrix.random_invertible\n",
    "m3 = BitMatrix.random_invertible(5, seed=42)\n",
    "\n",
    "print(m3)\n",
    "print(\"Rank = \", m3.rank())"
   ]
  },
  {
   "cell_type": "markdown",
   "id": "d9e047c4",
   "metadata": {},
   "source": [
    "Matrix multiplication is implemented using the `@` operator (or `*`, which is used as an alias for `@`)."
   ]
  },
  {
   "cell_type": "code",
   "execution_count": 6,
   "id": "1641f328",
   "metadata": {},
   "outputs": [
    {
     "name": "stdout",
     "output_type": "stream",
     "text": [
      " 0  0  1 \n",
      " 1  1  1 \n",
      " 0  0  0 \n",
      " 1  0  0 \n",
      "\n"
     ]
    }
   ],
   "source": [
    "m = BitMatrix.random(4, 5, seed=42)\n",
    "m1 = BitMatrix.random(5, 3, seed=42)\n",
    "\n",
    "print(m @ m1)"
   ]
  },
  {
   "cell_type": "markdown",
   "id": "6b1807e8",
   "metadata": {},
   "source": [
    "Gaussian elimination can be performed using the `gauss` method, which transforms the matrix into row echelon form. The optional parameter `full` can be set to `True` to perform full Gaussian elimination, which reduces the matrix to reduced row echelon form."
   ]
  },
  {
   "cell_type": "code",
   "execution_count": 7,
   "id": "6cdc9535",
   "metadata": {},
   "outputs": [
    {
     "name": "stdout",
     "output_type": "stream",
     "text": [
      " 1  1  0  1  0  0  0  0  0  1  1  1  0  1  1 \n",
      " 0  1  0  1  0  0  0  1  1  0  0  1  1  1  1 \n",
      " 0  0  1  0  1  0  1  1  1  0  0  1  0  1  1 \n",
      " 0  0  0  1  1  0  0  1  0  0  0  0  0  0  1 \n",
      " 0  0  0  0  0  0  1  0  0  1  0  1  0  1  1 \n",
      "\n",
      " 1  0  0  0  0  0  0  1  1  1  1  0  1  0  0 \n",
      " 0  1  0  0  1  0  0  0  1  0  0  1  1  1  0 \n",
      " 0  0  1  0  1  0  0  1  1  1  0  0  0  0  0 \n",
      " 0  0  0  1  1  0  0  1  0  0  0  0  0  0  1 \n",
      " 0  0  0  0  0  0  1  0  0  1  0  1  0  1  1 \n",
      "\n"
     ]
    }
   ],
   "source": [
    "m = BitMatrix.random(5, 15, seed=42)\n",
    "m1 = m.copy()\n",
    "m1.gauss()\n",
    "\n",
    "m2 = m.copy()\n",
    "m2.gauss(full=True)\n",
    "\n",
    "print(m1)\n",
    "print(m2)"
   ]
  },
  {
   "cell_type": "markdown",
   "id": "6cfe7bc3",
   "metadata": {},
   "source": [
    "Several other methods use Gaussian elimination under the hood, such as `inverse` and `rank`."
   ]
  },
  {
   "cell_type": "code",
   "execution_count": 8,
   "id": "bd2786df",
   "metadata": {},
   "outputs": [
    {
     "name": "stdout",
     "output_type": "stream",
     "text": [
      "Rank m = 3\n",
      "Rank m1 = 4\n",
      "\n",
      " 0  1  1  0 \n",
      " 1  1  0  0 \n",
      " 0  1  0  0 \n",
      " 0  1  0  1 \n",
      "\n"
     ]
    }
   ],
   "source": [
    "m = BitMatrix.from_int_list([[1, 0, 1, 0],\n",
    "                             [0, 1, 0, 1],\n",
    "                             [0, 1, 0, 1],\n",
    "                             [0, 0, 1, 1]])\n",
    "print(\"Rank m =\", m.rank())\n",
    "\n",
    "m1 = BitMatrix.random_invertible(4, seed=42)\n",
    "print(\"Rank m1 =\", m1.rank())\n",
    "\n",
    "print()\n",
    "print(m1.inverse())\n",
    "assert(m1 @ m1.inverse() == BitMatrix.identity(4))"
   ]
  },
  {
   "cell_type": "markdown",
   "id": "c5426b2d",
   "metadata": {},
   "source": [
    "### Performance\n",
    "\n",
    "We'll do a couple of benchmarks to compare performance to a pure Python implementation. This is meant to give a rough idea, not be a comprehensive benchmark vs. the state of the art.\n",
    "\n",
    "For comparison, we will use a pure Python implementation of Gaussian elimination over $\\mathbb F_2$, which came from [this GitHub repo](https://github.com/akissinger/f2linalg)."
   ]
  },
  {
   "cell_type": "code",
   "execution_count": 9,
   "id": "6f9b60c9",
   "metadata": {},
   "outputs": [],
   "source": [
    "from f2linalg import Mat2 # pure Python implementation of F2-matrices, for comparison"
   ]
  },
  {
   "cell_type": "code",
   "execution_count": 10,
   "id": "1fc11b90",
   "metadata": {},
   "outputs": [
    {
     "name": "stdout",
     "output_type": "stream",
     "text": [
      " 1  1  0  1  0 \n",
      " 0  1  0  1  0 \n",
      " 1  1  1  1  1 \n",
      " 1  0  1  1  0 \n",
      "\n",
      " 1  1  0  1  0 \n",
      " 0  1  0  1  0 \n",
      " 1  1  1  1  1 \n",
      " 1  0  1  1  0 \n"
     ]
    }
   ],
   "source": [
    "# Mat2 is constructed from a list of lists of integers, so we can use\n",
    "# BitMatrix.to_int_list to turn a BitMatrix into a Mat2\n",
    "\n",
    "m = BitMatrix.random(4, 5, seed=42)\n",
    "m1 = Mat2(m.to_int_list())\n",
    "print(m)\n",
    "print(m1)"
   ]
  },
  {
   "cell_type": "markdown",
   "id": "dd8b25b2",
   "metadata": {},
   "source": [
    "We should see a modest improvement for small matrices.\n",
    "\n",
    "_Note we make a copy each time, otherwise we would do all the work in the first iteration. The overhead of copying is pretty small compared to `gauss`, but if we wanted to more careful, we could measure that part separately._"
   ]
  },
  {
   "cell_type": "code",
   "execution_count": 11,
   "id": "7e5bbc63",
   "metadata": {},
   "outputs": [
    {
     "name": "stdout",
     "output_type": "stream",
     "text": [
      "7.19 μs ± 121 ns per loop (mean ± std. dev. of 7 runs, 100,000 loops each)\n",
      "45.4 μs ± 1.18 μs per loop (mean ± std. dev. of 7 runs, 10,000 loops each)\n"
     ]
    }
   ],
   "source": [
    "m = BitMatrix.random(10, 20, seed=42)\n",
    "m1 = Mat2(m.to_int_list())\n",
    "\n",
    "%timeit m.copy().gauss()\n",
    "%timeit m1.copy().gauss()"
   ]
  },
  {
   "cell_type": "markdown",
   "id": "5e395692",
   "metadata": {},
   "source": [
    "...which starts to be significant once we have hundreds of rows/columns:"
   ]
  },
  {
   "cell_type": "code",
   "execution_count": 12,
   "id": "a3f69090",
   "metadata": {},
   "outputs": [
    {
     "name": "stdout",
     "output_type": "stream",
     "text": [
      "328 μs ± 19.2 μs per loop (mean ± std. dev. of 7 runs, 1,000 loops each)\n",
      "17.9 ms ± 481 μs per loop (mean ± std. dev. of 7 runs, 100 loops each)\n"
     ]
    }
   ],
   "source": [
    "m = BitMatrix.random(100, 200, seed=42)\n",
    "m1 = Mat2(m.to_int_list())\n",
    "\n",
    "%timeit m.copy().gauss()\n",
    "%timeit m1.copy().gauss()"
   ]
  },
  {
   "cell_type": "markdown",
   "id": "19a0aace",
   "metadata": {},
   "source": [
    "...and is about 100X faster once we have thousands of rows/columns:"
   ]
  },
  {
   "cell_type": "code",
   "execution_count": 13,
   "id": "934e0297",
   "metadata": {},
   "outputs": [
    {
     "name": "stdout",
     "output_type": "stream",
     "text": [
      "82.2 ms ± 1.7 ms per loop (mean ± std. dev. of 7 runs, 10 loops each)\n",
      "10.1 s ± 172 ms per loop (mean ± std. dev. of 7 runs, 1 loop each)\n"
     ]
    }
   ],
   "source": [
    "m = BitMatrix.random(1000, 2000, seed=42)\n",
    "m1 = Mat2(m.to_int_list())\n",
    "\n",
    "%timeit m.copy().gauss()\n",
    "%timeit m1.copy().gauss()"
   ]
  },
  {
   "cell_type": "code",
   "execution_count": null,
   "id": "b12dbf1c",
   "metadata": {},
   "outputs": [],
   "source": []
  }
 ],
 "metadata": {
  "kernelspec": {
   "display_name": ".venv",
   "language": "python",
   "name": "python3"
  },
  "language_info": {
   "codemirror_mode": {
    "name": "ipython",
    "version": 3
   },
   "file_extension": ".py",
   "mimetype": "text/x-python",
   "name": "python",
   "nbconvert_exporter": "python",
   "pygments_lexer": "ipython3",
   "version": "3.13.4"
  }
 },
 "nbformat": 4,
 "nbformat_minor": 5
}
